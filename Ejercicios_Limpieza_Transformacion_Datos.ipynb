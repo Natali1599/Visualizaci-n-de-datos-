{
  "cells": [
    {
      "cell_type": "markdown",
      "metadata": {
        "id": "view-in-github",
        "colab_type": "text"
      },
      "source": [
        "<a href=\"https://colab.research.google.com/github/Natali1599/Visualizaci-n-de-datos-/blob/main/Ejercicios_Limpieza_Transformacion_Datos.ipynb\" target=\"_parent\"><img src=\"https://colab.research.google.com/assets/colab-badge.svg\" alt=\"Open In Colab\"/></a>"
      ]
    },
    {
      "cell_type": "markdown",
      "metadata": {
        "toc": true,
        "id": "hzmVOn8MtZIA"
      },
      "source": [
        "<h1>Table of Contents<span class=\"tocSkip\"></span></h1>\n",
        "<div class=\"toc\"><ul class=\"toc-item\"><li><span><a href=\"#Ejercicio-Fechas-Publicación\" data-toc-modified-id=\"Ejercicio-Fechas-Publicación-1\"><span class=\"toc-item-num\">1&nbsp;&nbsp;</span>Ejercicio Fechas Publicación</a></span></li><li><span><a href=\"#Ejercicio-Tipo-de-Contrato-y-Subtipo-de-Contrato\" data-toc-modified-id=\"Ejercicio-Tipo-de-Contrato-y-Subtipo-de-Contrato-2\"><span class=\"toc-item-num\">2&nbsp;&nbsp;</span>Ejercicio Tipo de Contrato y Subtipo de Contrato</a></span></li><li><span><a href=\"#Ejercicio-Duración-del-contrato\" data-toc-modified-id=\"Ejercicio-Duración-del-contrato-3\"><span class=\"toc-item-num\">3&nbsp;&nbsp;</span>Ejercicio Duración del contrato</a></span></li></ul></div>"
      ]
    },
    {
      "cell_type": "markdown",
      "metadata": {
        "id": "KBaZEEovtZIC"
      },
      "source": [
        "# Ejercicios Limpieza de Datos <a class=\"tocSkip\">\n",
        "\n",
        "por Mónica Tatiana Gutierrez B\n",
        "\n",
        "version 0.1, Feb 2021\n",
        "\n",
        "Parte de la clase Curso de visualización para ciencia de datos en Python"
      ]
    },
    {
      "cell_type": "code",
      "execution_count": 40,
      "metadata": {
        "ExecuteTime": {
          "end_time": "2021-03-01T03:42:20.681744Z",
          "start_time": "2021-03-01T03:42:19.827059Z"
        },
        "id": "gI6WWRovtZIE"
      },
      "outputs": [],
      "source": [
        "import pandas as pd\n",
        "import numpy as np\n",
        "pd.set_option('display.max_columns', None) #Mostrar todas las columnas\n"
      ]
    },
    {
      "cell_type": "code",
      "source": [
        "import pyarrow as pa\n",
        "import pyarrow.parquet as pq"
      ],
      "metadata": {
        "id": "XAqNRHrQH42_"
      },
      "execution_count": 41,
      "outputs": []
    },
    {
      "cell_type": "code",
      "source": [
        "import time"
      ],
      "metadata": {
        "id": "_yJo9EKBH40W"
      },
      "execution_count": 42,
      "outputs": []
    },
    {
      "cell_type": "code",
      "source": [
        "from google.colab import drive\n",
        "drive.mount('/content/drive')"
      ],
      "metadata": {
        "colab": {
          "base_uri": "https://localhost:8080/"
        },
        "id": "CPlIyeYaCqzm",
        "outputId": "b9698df4-c2c1-4a04-ce59-323d9dfb9c9a"
      },
      "execution_count": 28,
      "outputs": [
        {
          "output_type": "stream",
          "name": "stdout",
          "text": [
            "Drive already mounted at /content/drive; to attempt to forcibly remount, call drive.mount(\"/content/drive\", force_remount=True).\n"
          ]
        }
      ]
    },
    {
      "cell_type": "code",
      "source": [
        "start=time.time()\n",
        "base = pd.read_csv('/content/drive/MyDrive/Colab Notebooks/SECOP_II_-_Procesos_de_Contrataci_n.csv', \n",
        "                 sep = ',', low_memory=False,\n",
        "                 index_col=0,\n",
        "                dtype={\n",
        "                      'Nit Entidad': str\n",
        "                     })\n",
        "base.head()\n",
        "print(f\"seconds {time.time()-start}\")"
      ],
      "metadata": {
        "colab": {
          "base_uri": "https://localhost:8080/"
        },
        "id": "JTt_M0M1Cwhr",
        "outputId": "41a5258a-2751-4c6b-9098-fc95b6f4b257"
      },
      "execution_count": 43,
      "outputs": [
        {
          "output_type": "stream",
          "name": "stdout",
          "text": [
            "seconds 23.969590187072754\n"
          ]
        }
      ]
    },
    {
      "cell_type": "code",
      "source": [
        "base.dtypes"
      ],
      "metadata": {
        "colab": {
          "base_uri": "https://localhost:8080/"
        },
        "id": "a1Nn0JCgI8LI",
        "outputId": "817c20ce-b523-47e1-8fc0-91b536c06a6d"
      },
      "execution_count": 49,
      "outputs": [
        {
          "output_type": "execute_result",
          "data": {
            "text/plain": [
              "Nit Entidad                                               object\n",
              "Departamento Entidad                                      object\n",
              "Ciudad Entidad                                            object\n",
              "OrdenEntidad                                              object\n",
              "Entidad Centralizada                                      object\n",
              "ID del Proceso                                            object\n",
              "Referencia del Proceso                                    object\n",
              "PCI                                                       object\n",
              "ID del Portafolio                                         object\n",
              "Nombre del Procedimiento                                  object\n",
              "Descripción del Procedimiento                             object\n",
              "Fase                                                      object\n",
              "Fecha de Publicacion del Proceso                          object\n",
              "Fecha de Ultima Publicación                               object\n",
              "Fecha de Publicacion (Fase Planeacion Precalificacion)    object\n",
              "Fecha de Publicacion (Fase Seleccion Precalificacion)     object\n",
              "Fecha de Publicacion (Manifestacion de Interes)           object\n",
              "Fecha de Publicacion (Fase Borrador)                      object\n",
              "Fecha de Publicacion (Fase Seleccion)                     object\n",
              "Precio Base                                                int64\n",
              "Modalidad de Contratacion                                 object\n",
              "Justificación Modalidad de Contratación                   object\n",
              "Duracion                                                   int64\n",
              "Unidad de Duracion                                        object\n",
              "Fecha de Recepcion de Respuestas                          object\n",
              "Fecha de Apertura de Respuesta                            object\n",
              "Fecha de Apertura Efectiva                                object\n",
              "Ciudad de la Unidad de Contratación                       object\n",
              "Nombre de la Unidad de Contratación                       object\n",
              "Proveedores Invitados                                      int64\n",
              "Proveedores con Invitacion Directa                         int64\n",
              "Visualizaciones del Procedimiento                          int64\n",
              "Proveedores que Manifestaron Interes                       int64\n",
              "Respuestas al Procedimiento                                int64\n",
              "Respuestas Externas                                        int64\n",
              "Conteo de Respuestas a Ofertas                             int64\n",
              "Proveedores Unicos con Respuestas                          int64\n",
              "Numero de Lotes                                            int64\n",
              "Estado del Procedimiento                                  object\n",
              "ID Estado del Procedimiento                                int64\n",
              "Adjudicado                                                object\n",
              "ID Adjudicacion                                           object\n",
              "CodigoProveedor                                           object\n",
              "Departamento Proveedor                                    object\n",
              "Ciudad Proveedor                                          object\n",
              "Fecha Adjudicacion                                        object\n",
              "Valor Total Adjudicacion                                   int64\n",
              "Nombre del Adjudicador                                    object\n",
              "Nombre del Proveedor Adjudicado                           object\n",
              "NIT del Proveedor Adjudicado                              object\n",
              "Codigo Principal de Categoria                             object\n",
              "Estado de Apertura del Proceso                            object\n",
              "Tipo de Contrato                                          object\n",
              "Subtipo de Contrato                                       object\n",
              "Categorias Adicionales                                    object\n",
              "URLProceso                                                object\n",
              "Codigo Entidad                                             int64\n",
              "dtype: object"
            ]
          },
          "metadata": {},
          "execution_count": 49
        }
      ]
    },
    {
      "cell_type": "code",
      "source": [
        "tabla=pa.Table.from_pandas(base)\n",
        "pq.write_table(tabla,\"base\")"
      ],
      "metadata": {
        "id": "7EsJbJu_ILBq"
      },
      "execution_count": 47,
      "outputs": []
    },
    {
      "cell_type": "markdown",
      "metadata": {
        "id": "MovBV1JqtZIH"
      },
      "source": [
        "## Ejercicio Fechas Publicación"
      ]
    },
    {
      "cell_type": "markdown",
      "metadata": {
        "id": "zDRszUFZtZII"
      },
      "source": [
        "Teniendo en cuenta que existe una Fecha de Publicación del Proceso y una fecha de última publicación, realice la limpieza de formato de dichas variables. Defina una nueva variable en la que se calcule la diferencia de éstas dos fechas y responda si incluiría las dos fechas dentro de la fuente de datos.\n",
        "\n",
        "*Utilice estadísticas descriptivas para responder la pregunta*"
      ]
    },
    {
      "cell_type": "code",
      "source": [
        "f1 = pd.to_datetime(base['Fecha de Publicacion del Proceso'])\n",
        "f2 = pd.to_datetime(base['Fecha de Ultima Publicación'])"
      ],
      "metadata": {
        "id": "TuTnhAnxNJti"
      },
      "execution_count": 72,
      "outputs": []
    },
    {
      "cell_type": "code",
      "source": [
        "f_diff = f2 - f1"
      ],
      "metadata": {
        "id": "1EA3W7QTOHyc"
      },
      "execution_count": 77,
      "outputs": []
    },
    {
      "cell_type": "code",
      "source": [
        "f_diff"
      ],
      "metadata": {
        "colab": {
          "base_uri": "https://localhost:8080/"
        },
        "id": "Fqn0iK6OOfJt",
        "outputId": "4f25e40b-5adc-453a-ed9c-69cf58d685da"
      },
      "execution_count": 78,
      "outputs": [
        {
          "output_type": "execute_result",
          "data": {
            "text/plain": [
              "Entidad\n",
              "DISPENSARIO MEDICO DE MEDELLÍN                            0 days\n",
              "DIRECCION DE SANIDAD EJERCITO DISPENSARIO MEDICO YOPAL    0 days\n",
              "INDUSTRIA MILITAR                                         0 days\n",
              "MINISTERIO DE VIVIENDA. CIUDAD Y TERRITORIO              -1 days\n",
              "HOSPITAL CENTRAL                                          0 days\n",
              "                                                           ...  \n",
              "MINISTERIO DE CULTURA                                     0 days\n",
              "SENA HOTELERIA TURISMO Y ALIMENTOS                        0 days\n",
              "MINISTERIO DEL INTERIOR                                  -1 days\n",
              "PERSONERIA DE BOGOTA                                      0 days\n",
              "COMPLEJO CARCELARIO Y PENITENCIARIO DE IBAGUE PICALEÑA    0 days\n",
              "Length: 876768, dtype: timedelta64[ns]"
            ]
          },
          "metadata": {},
          "execution_count": 78
        }
      ]
    },
    {
      "cell_type": "code",
      "source": [
        "Dif=pd.to_datetime(base[\"Fecha de Ultima Publicación\"])-pd.to_datetime(base[\"Fecha de Publicacion del Proceso\"])"
      ],
      "metadata": {
        "id": "gXBKJ4vGIyir"
      },
      "execution_count": 79,
      "outputs": []
    },
    {
      "cell_type": "code",
      "source": [
        "Dif"
      ],
      "metadata": {
        "colab": {
          "base_uri": "https://localhost:8080/"
        },
        "id": "NC_d2C2tOs8g",
        "outputId": "a2186503-f119-4cde-a33b-f984ebb713f6"
      },
      "execution_count": 80,
      "outputs": [
        {
          "output_type": "execute_result",
          "data": {
            "text/plain": [
              "Entidad\n",
              "DISPENSARIO MEDICO DE MEDELLÍN                            0 days\n",
              "DIRECCION DE SANIDAD EJERCITO DISPENSARIO MEDICO YOPAL    0 days\n",
              "INDUSTRIA MILITAR                                         0 days\n",
              "MINISTERIO DE VIVIENDA. CIUDAD Y TERRITORIO              -1 days\n",
              "HOSPITAL CENTRAL                                          0 days\n",
              "                                                           ...  \n",
              "MINISTERIO DE CULTURA                                     0 days\n",
              "SENA HOTELERIA TURISMO Y ALIMENTOS                        0 days\n",
              "MINISTERIO DEL INTERIOR                                  -1 days\n",
              "PERSONERIA DE BOGOTA                                      0 days\n",
              "COMPLEJO CARCELARIO Y PENITENCIARIO DE IBAGUE PICALEÑA    0 days\n",
              "Length: 876768, dtype: timedelta64[ns]"
            ]
          },
          "metadata": {},
          "execution_count": 80
        }
      ]
    },
    {
      "cell_type": "code",
      "source": [
        "Dif.describe()"
      ],
      "metadata": {
        "colab": {
          "base_uri": "https://localhost:8080/"
        },
        "id": "zSM6CVfyO0ae",
        "outputId": "17137b7d-750b-48ca-bc96-103342b2479b"
      },
      "execution_count": 81,
      "outputs": [
        {
          "output_type": "execute_result",
          "data": {
            "text/plain": [
              "count                         876766\n",
              "mean     -1 days +20:33:13.807241613\n",
              "std        0 days 08:24:58.225733135\n",
              "min                -1 days +00:00:00\n",
              "25%                  0 days 00:00:00\n",
              "50%                  0 days 00:00:00\n",
              "75%                  0 days 00:00:00\n",
              "max                  0 days 00:00:00\n",
              "dtype: object"
            ]
          },
          "metadata": {},
          "execution_count": 81
        }
      ]
    },
    {
      "cell_type": "markdown",
      "metadata": {
        "id": "IuybedFntZIJ"
      },
      "source": [
        "## Ejercicio Tipo de Contrato y Subtipo de Contrato\n",
        "De acuerdo con las variables Contrato y Subcontrato, realice una tabla cruzada y responda ¿Vale la pena dejar ambas variables en la fuente de datos?"
      ]
    },
    {
      "cell_type": "code",
      "execution_count": 53,
      "metadata": {
        "ExecuteTime": {
          "end_time": "2021-03-01T03:40:17.320326Z",
          "start_time": "2021-03-01T03:40:16.982353Z"
        },
        "colab": {
          "base_uri": "https://localhost:8080/",
          "height": 246
        },
        "id": "8vAB_WmftZIJ",
        "outputId": "5c94dcf6-107f-4d12-d724-4a317de3c342"
      },
      "outputs": [
        {
          "output_type": "execute_result",
          "data": {
            "text/plain": [
              "Tipo de Contrato     27 - Otros servicios  Acuerdo Marco  \\\n",
              "Subtipo de Contrato                                        \n",
              "No Especificado                     42777           2782   \n",
              "\n",
              "Tipo de Contrato     Alquiler de edificios  Arrendamiento Muebles  Comisión  \\\n",
              "Subtipo de Contrato                                                           \n",
              "No Especificado                       7554                    527        84   \n",
              "\n",
              "Tipo de Contrato     Compraventa  Concesión  Consultoría  Decreto 092 de 2017  \\\n",
              "Subtipo de Contrato                                                             \n",
              "No Especificado            42412        108         4164                28466   \n",
              "\n",
              "Tipo de Contrato     Interventoría     ND  No Especificado   Obra  Seguros  \\\n",
              "Subtipo de Contrato                                                          \n",
              "No Especificado               4725  28827                5  11790     2218   \n",
              "\n",
              "Tipo de Contrato     Servicios de aprovisionamiento  Suministros  \\\n",
              "Subtipo de Contrato                                                \n",
              "No Especificado                              653206        46985   \n",
              "\n",
              "Tipo de Contrato     Ventas de muebles  \n",
              "Subtipo de Contrato                     \n",
              "No Especificado                    138  "
            ],
            "text/html": [
              "\n",
              "  <div id=\"df-16bc6e05-4349-4022-88ba-7f64d6f3f60b\">\n",
              "    <div class=\"colab-df-container\">\n",
              "      <div>\n",
              "<style scoped>\n",
              "    .dataframe tbody tr th:only-of-type {\n",
              "        vertical-align: middle;\n",
              "    }\n",
              "\n",
              "    .dataframe tbody tr th {\n",
              "        vertical-align: top;\n",
              "    }\n",
              "\n",
              "    .dataframe thead th {\n",
              "        text-align: right;\n",
              "    }\n",
              "</style>\n",
              "<table border=\"1\" class=\"dataframe\">\n",
              "  <thead>\n",
              "    <tr style=\"text-align: right;\">\n",
              "      <th>Tipo de Contrato</th>\n",
              "      <th>27 - Otros servicios</th>\n",
              "      <th>Acuerdo Marco</th>\n",
              "      <th>Alquiler de edificios</th>\n",
              "      <th>Arrendamiento Muebles</th>\n",
              "      <th>Comisión</th>\n",
              "      <th>Compraventa</th>\n",
              "      <th>Concesión</th>\n",
              "      <th>Consultoría</th>\n",
              "      <th>Decreto 092 de 2017</th>\n",
              "      <th>Interventoría</th>\n",
              "      <th>ND</th>\n",
              "      <th>No Especificado</th>\n",
              "      <th>Obra</th>\n",
              "      <th>Seguros</th>\n",
              "      <th>Servicios de aprovisionamiento</th>\n",
              "      <th>Suministros</th>\n",
              "      <th>Ventas de muebles</th>\n",
              "    </tr>\n",
              "    <tr>\n",
              "      <th>Subtipo de Contrato</th>\n",
              "      <th></th>\n",
              "      <th></th>\n",
              "      <th></th>\n",
              "      <th></th>\n",
              "      <th></th>\n",
              "      <th></th>\n",
              "      <th></th>\n",
              "      <th></th>\n",
              "      <th></th>\n",
              "      <th></th>\n",
              "      <th></th>\n",
              "      <th></th>\n",
              "      <th></th>\n",
              "      <th></th>\n",
              "      <th></th>\n",
              "      <th></th>\n",
              "      <th></th>\n",
              "    </tr>\n",
              "  </thead>\n",
              "  <tbody>\n",
              "    <tr>\n",
              "      <th>No Especificado</th>\n",
              "      <td>42777</td>\n",
              "      <td>2782</td>\n",
              "      <td>7554</td>\n",
              "      <td>527</td>\n",
              "      <td>84</td>\n",
              "      <td>42412</td>\n",
              "      <td>108</td>\n",
              "      <td>4164</td>\n",
              "      <td>28466</td>\n",
              "      <td>4725</td>\n",
              "      <td>28827</td>\n",
              "      <td>5</td>\n",
              "      <td>11790</td>\n",
              "      <td>2218</td>\n",
              "      <td>653206</td>\n",
              "      <td>46985</td>\n",
              "      <td>138</td>\n",
              "    </tr>\n",
              "  </tbody>\n",
              "</table>\n",
              "</div>\n",
              "      <button class=\"colab-df-convert\" onclick=\"convertToInteractive('df-16bc6e05-4349-4022-88ba-7f64d6f3f60b')\"\n",
              "              title=\"Convert this dataframe to an interactive table.\"\n",
              "              style=\"display:none;\">\n",
              "        \n",
              "  <svg xmlns=\"http://www.w3.org/2000/svg\" height=\"24px\"viewBox=\"0 0 24 24\"\n",
              "       width=\"24px\">\n",
              "    <path d=\"M0 0h24v24H0V0z\" fill=\"none\"/>\n",
              "    <path d=\"M18.56 5.44l.94 2.06.94-2.06 2.06-.94-2.06-.94-.94-2.06-.94 2.06-2.06.94zm-11 1L8.5 8.5l.94-2.06 2.06-.94-2.06-.94L8.5 2.5l-.94 2.06-2.06.94zm10 10l.94 2.06.94-2.06 2.06-.94-2.06-.94-.94-2.06-.94 2.06-2.06.94z\"/><path d=\"M17.41 7.96l-1.37-1.37c-.4-.4-.92-.59-1.43-.59-.52 0-1.04.2-1.43.59L10.3 9.45l-7.72 7.72c-.78.78-.78 2.05 0 2.83L4 21.41c.39.39.9.59 1.41.59.51 0 1.02-.2 1.41-.59l7.78-7.78 2.81-2.81c.8-.78.8-2.07 0-2.86zM5.41 20L4 18.59l7.72-7.72 1.47 1.35L5.41 20z\"/>\n",
              "  </svg>\n",
              "      </button>\n",
              "      \n",
              "  <style>\n",
              "    .colab-df-container {\n",
              "      display:flex;\n",
              "      flex-wrap:wrap;\n",
              "      gap: 12px;\n",
              "    }\n",
              "\n",
              "    .colab-df-convert {\n",
              "      background-color: #E8F0FE;\n",
              "      border: none;\n",
              "      border-radius: 50%;\n",
              "      cursor: pointer;\n",
              "      display: none;\n",
              "      fill: #1967D2;\n",
              "      height: 32px;\n",
              "      padding: 0 0 0 0;\n",
              "      width: 32px;\n",
              "    }\n",
              "\n",
              "    .colab-df-convert:hover {\n",
              "      background-color: #E2EBFA;\n",
              "      box-shadow: 0px 1px 2px rgba(60, 64, 67, 0.3), 0px 1px 3px 1px rgba(60, 64, 67, 0.15);\n",
              "      fill: #174EA6;\n",
              "    }\n",
              "\n",
              "    [theme=dark] .colab-df-convert {\n",
              "      background-color: #3B4455;\n",
              "      fill: #D2E3FC;\n",
              "    }\n",
              "\n",
              "    [theme=dark] .colab-df-convert:hover {\n",
              "      background-color: #434B5C;\n",
              "      box-shadow: 0px 1px 3px 1px rgba(0, 0, 0, 0.15);\n",
              "      filter: drop-shadow(0px 1px 2px rgba(0, 0, 0, 0.3));\n",
              "      fill: #FFFFFF;\n",
              "    }\n",
              "  </style>\n",
              "\n",
              "      <script>\n",
              "        const buttonEl =\n",
              "          document.querySelector('#df-16bc6e05-4349-4022-88ba-7f64d6f3f60b button.colab-df-convert');\n",
              "        buttonEl.style.display =\n",
              "          google.colab.kernel.accessAllowed ? 'block' : 'none';\n",
              "\n",
              "        async function convertToInteractive(key) {\n",
              "          const element = document.querySelector('#df-16bc6e05-4349-4022-88ba-7f64d6f3f60b');\n",
              "          const dataTable =\n",
              "            await google.colab.kernel.invokeFunction('convertToInteractive',\n",
              "                                                     [key], {});\n",
              "          if (!dataTable) return;\n",
              "\n",
              "          const docLinkHtml = 'Like what you see? Visit the ' +\n",
              "            '<a target=\"_blank\" href=https://colab.research.google.com/notebooks/data_table.ipynb>data table notebook</a>'\n",
              "            + ' to learn more about interactive tables.';\n",
              "          element.innerHTML = '';\n",
              "          dataTable['output_type'] = 'display_data';\n",
              "          await google.colab.output.renderOutput(dataTable, element);\n",
              "          const docLink = document.createElement('div');\n",
              "          docLink.innerHTML = docLinkHtml;\n",
              "          element.appendChild(docLink);\n",
              "        }\n",
              "      </script>\n",
              "    </div>\n",
              "  </div>\n",
              "  "
            ]
          },
          "metadata": {},
          "execution_count": 53
        }
      ],
      "source": [
        "pd.crosstab(base[\"Subtipo de Contrato\"],base[\"Tipo de Contrato\"])"
      ]
    },
    {
      "cell_type": "markdown",
      "metadata": {
        "id": "OpbqN7hxtZIK"
      },
      "source": [
        "## Ejercicio Duración del contrato\n",
        "Teniendo en cuenta que la duración de los contratos tiene métricas diferentes, encuentre una estrategia para crear una nueva variable en la cuál se encuentre parametrizada la variable de duración del contrato."
      ]
    },
    {
      "cell_type": "code",
      "execution_count": 55,
      "metadata": {
        "ExecuteTime": {
          "end_time": "2021-03-01T03:42:27.614051Z",
          "start_time": "2021-03-01T03:42:27.495282Z"
        },
        "colab": {
          "base_uri": "https://localhost:8080/"
        },
        "id": "dTEuX8d1tZIL",
        "outputId": "f6bd5aab-57fd-4fc9-9969-6cea733a1ac4"
      },
      "outputs": [
        {
          "output_type": "execute_result",
          "data": {
            "text/plain": [
              "Dias     431986\n",
              "Meses    404342\n",
              "ND        32324\n",
              "Años       8116\n",
              "Name: Unidad de Duracion, dtype: int64"
            ]
          },
          "metadata": {},
          "execution_count": 55
        }
      ],
      "source": [
        "base['Unidad de Duracion'].value_counts()"
      ]
    },
    {
      "cell_type": "code",
      "execution_count": 82,
      "metadata": {
        "ExecuteTime": {
          "end_time": "2021-03-01T03:42:27.708467Z",
          "start_time": "2021-03-01T03:42:27.617595Z"
        },
        "scrolled": true,
        "colab": {
          "base_uri": "https://localhost:8080/",
          "height": 708
        },
        "id": "W31wV57EtZIM",
        "outputId": "88621bbe-75d3-423f-a28b-57be924f269b"
      },
      "outputs": [
        {
          "output_type": "execute_result",
          "data": {
            "text/plain": [
              "                                                   Unidad de Duracion  \\\n",
              "Entidad                                                                 \n",
              "UNIDAD ADMINISTRATIVA ESPECIAL DE GESTION DE RE...              Meses   \n",
              "CONGRESO DE LA REPÚBLICA - HONORABLE SENADO DE ...              Meses   \n",
              "UARIV-UNIDAD PARA LA ATENCION Y REPARACION INTE...              Meses   \n",
              "EMPRESA DE ACUEDUCTO Y ALCANTARILLADO DE BOGOTÁ...              Meses   \n",
              "DEPARTAMENTO ADMINISTRATIVO DEL SERVICIO CIVIL ...              Meses   \n",
              "CORPORACIÓN AUTONOMA REGIONAL DEL TOLIMA                        Meses   \n",
              "EMPRESA SOCIAL DEL ESTADO HOSPITAL SAN MARTIN D...              Meses   \n",
              "CAMARA DE REPRESENTANTES                                        Meses   \n",
              "INSTITUTO DISTRITAL DE LAS ARTES                                 Dias   \n",
              "POLICIA METROPOLITANA DE BOGOTA                                 Meses   \n",
              "SENA REGIONAL CALDAS Grupo de Apoyo Administrat...               Dias   \n",
              "CORPORACIÓN AUTÓNOMA REGIONAL DEL CENTRO DE ANT...              Meses   \n",
              "SENA REGIONAL CUNDINAMARCA Grupo de Apoyo Admin...               Dias   \n",
              "AGENCIA NACIONAL DE TIERRAS                                      Dias   \n",
              "PERSONERIA DE BOGOTA                                            Meses   \n",
              "ESAP TERRITORIAL ANTIOQUIA CHOCO                                Meses   \n",
              "UNIDAD ADMINISTRATIVA ESPECIAL DE GESTION DE RE...               Dias   \n",
              "SECRETARIA DE DESARROLLO E INCLUSION SOCIAL GOB...              Meses   \n",
              "MUNICIPIO DE SANTIAGO DE CALI  - SECRETARIA DE ...              Meses   \n",
              "INSTITUTO DISTRITAL DE TURISMO                                  Meses   \n",
              "\n",
              "                                                    Duracion  \n",
              "Entidad                                                       \n",
              "UNIDAD ADMINISTRATIVA ESPECIAL DE GESTION DE RE...        12  \n",
              "CONGRESO DE LA REPÚBLICA - HONORABLE SENADO DE ...         5  \n",
              "UARIV-UNIDAD PARA LA ATENCION Y REPARACION INTE...        12  \n",
              "EMPRESA DE ACUEDUCTO Y ALCANTARILLADO DE BOGOTÁ...         6  \n",
              "DEPARTAMENTO ADMINISTRATIVO DEL SERVICIO CIVIL ...         5  \n",
              "CORPORACIÓN AUTONOMA REGIONAL DEL TOLIMA                   6  \n",
              "EMPRESA SOCIAL DEL ESTADO HOSPITAL SAN MARTIN D...         4  \n",
              "CAMARA DE REPRESENTANTES                                   3  \n",
              "INSTITUTO DISTRITAL DE LAS ARTES                           2  \n",
              "POLICIA METROPOLITANA DE BOGOTA                            3  \n",
              "SENA REGIONAL CALDAS Grupo de Apoyo Administrat...        90  \n",
              "CORPORACIÓN AUTÓNOMA REGIONAL DEL CENTRO DE ANT...         5  \n",
              "SENA REGIONAL CUNDINAMARCA Grupo de Apoyo Admin...       299  \n",
              "AGENCIA NACIONAL DE TIERRAS                              180  \n",
              "PERSONERIA DE BOGOTA                                       5  \n",
              "ESAP TERRITORIAL ANTIOQUIA CHOCO                           7  \n",
              "UNIDAD ADMINISTRATIVA ESPECIAL DE GESTION DE RE...       350  \n",
              "SECRETARIA DE DESARROLLO E INCLUSION SOCIAL GOB...         8  \n",
              "MUNICIPIO DE SANTIAGO DE CALI  - SECRETARIA DE ...         4  \n",
              "INSTITUTO DISTRITAL DE TURISMO                             7  "
            ],
            "text/html": [
              "\n",
              "  <div id=\"df-87c353e3-779f-4c92-83af-c6aac9cefb87\">\n",
              "    <div class=\"colab-df-container\">\n",
              "      <div>\n",
              "<style scoped>\n",
              "    .dataframe tbody tr th:only-of-type {\n",
              "        vertical-align: middle;\n",
              "    }\n",
              "\n",
              "    .dataframe tbody tr th {\n",
              "        vertical-align: top;\n",
              "    }\n",
              "\n",
              "    .dataframe thead th {\n",
              "        text-align: right;\n",
              "    }\n",
              "</style>\n",
              "<table border=\"1\" class=\"dataframe\">\n",
              "  <thead>\n",
              "    <tr style=\"text-align: right;\">\n",
              "      <th></th>\n",
              "      <th>Unidad de Duracion</th>\n",
              "      <th>Duracion</th>\n",
              "    </tr>\n",
              "    <tr>\n",
              "      <th>Entidad</th>\n",
              "      <th></th>\n",
              "      <th></th>\n",
              "    </tr>\n",
              "  </thead>\n",
              "  <tbody>\n",
              "    <tr>\n",
              "      <th>UNIDAD ADMINISTRATIVA ESPECIAL DE GESTION DE RESTITUCION DE TIERRAS DESPOJADAS</th>\n",
              "      <td>Meses</td>\n",
              "      <td>12</td>\n",
              "    </tr>\n",
              "    <tr>\n",
              "      <th>CONGRESO DE LA REPÚBLICA - HONORABLE SENADO DE LA REPÚBLICA</th>\n",
              "      <td>Meses</td>\n",
              "      <td>5</td>\n",
              "    </tr>\n",
              "    <tr>\n",
              "      <th>UARIV-UNIDAD PARA LA ATENCION Y REPARACION INTEGRAL A LAS VICTIMAS</th>\n",
              "      <td>Meses</td>\n",
              "      <td>12</td>\n",
              "    </tr>\n",
              "    <tr>\n",
              "      <th>EMPRESA DE ACUEDUCTO Y ALCANTARILLADO DE BOGOTÁ - E.S.P.</th>\n",
              "      <td>Meses</td>\n",
              "      <td>6</td>\n",
              "    </tr>\n",
              "    <tr>\n",
              "      <th>DEPARTAMENTO ADMINISTRATIVO DEL SERVICIO CIVIL DISTRITAL</th>\n",
              "      <td>Meses</td>\n",
              "      <td>5</td>\n",
              "    </tr>\n",
              "    <tr>\n",
              "      <th>CORPORACIÓN AUTONOMA REGIONAL DEL TOLIMA</th>\n",
              "      <td>Meses</td>\n",
              "      <td>6</td>\n",
              "    </tr>\n",
              "    <tr>\n",
              "      <th>EMPRESA SOCIAL DEL ESTADO HOSPITAL SAN MARTIN DE PORRES DE CHOCONTA</th>\n",
              "      <td>Meses</td>\n",
              "      <td>4</td>\n",
              "    </tr>\n",
              "    <tr>\n",
              "      <th>CAMARA DE REPRESENTANTES</th>\n",
              "      <td>Meses</td>\n",
              "      <td>3</td>\n",
              "    </tr>\n",
              "    <tr>\n",
              "      <th>INSTITUTO DISTRITAL DE LAS ARTES</th>\n",
              "      <td>Dias</td>\n",
              "      <td>2</td>\n",
              "    </tr>\n",
              "    <tr>\n",
              "      <th>POLICIA METROPOLITANA DE BOGOTA</th>\n",
              "      <td>Meses</td>\n",
              "      <td>3</td>\n",
              "    </tr>\n",
              "    <tr>\n",
              "      <th>SENA REGIONAL CALDAS Grupo de Apoyo Administrativo Mixto</th>\n",
              "      <td>Dias</td>\n",
              "      <td>90</td>\n",
              "    </tr>\n",
              "    <tr>\n",
              "      <th>CORPORACIÓN AUTÓNOMA REGIONAL DEL CENTRO DE ANTIOQUIA</th>\n",
              "      <td>Meses</td>\n",
              "      <td>5</td>\n",
              "    </tr>\n",
              "    <tr>\n",
              "      <th>SENA REGIONAL CUNDINAMARCA Grupo de Apoyo Administrativo Mixto</th>\n",
              "      <td>Dias</td>\n",
              "      <td>299</td>\n",
              "    </tr>\n",
              "    <tr>\n",
              "      <th>AGENCIA NACIONAL DE TIERRAS</th>\n",
              "      <td>Dias</td>\n",
              "      <td>180</td>\n",
              "    </tr>\n",
              "    <tr>\n",
              "      <th>PERSONERIA DE BOGOTA</th>\n",
              "      <td>Meses</td>\n",
              "      <td>5</td>\n",
              "    </tr>\n",
              "    <tr>\n",
              "      <th>ESAP TERRITORIAL ANTIOQUIA CHOCO</th>\n",
              "      <td>Meses</td>\n",
              "      <td>7</td>\n",
              "    </tr>\n",
              "    <tr>\n",
              "      <th>UNIDAD ADMINISTRATIVA ESPECIAL DE GESTION DE RESTITUCION DE TIERRAS DESPOJADAS</th>\n",
              "      <td>Dias</td>\n",
              "      <td>350</td>\n",
              "    </tr>\n",
              "    <tr>\n",
              "      <th>SECRETARIA DE DESARROLLO E INCLUSION SOCIAL GOBERNACION DE CUNDINAMARCA</th>\n",
              "      <td>Meses</td>\n",
              "      <td>8</td>\n",
              "    </tr>\n",
              "    <tr>\n",
              "      <th>MUNICIPIO DE SANTIAGO DE CALI  - SECRETARIA DE CULTURA</th>\n",
              "      <td>Meses</td>\n",
              "      <td>4</td>\n",
              "    </tr>\n",
              "    <tr>\n",
              "      <th>INSTITUTO DISTRITAL DE TURISMO</th>\n",
              "      <td>Meses</td>\n",
              "      <td>7</td>\n",
              "    </tr>\n",
              "  </tbody>\n",
              "</table>\n",
              "</div>\n",
              "      <button class=\"colab-df-convert\" onclick=\"convertToInteractive('df-87c353e3-779f-4c92-83af-c6aac9cefb87')\"\n",
              "              title=\"Convert this dataframe to an interactive table.\"\n",
              "              style=\"display:none;\">\n",
              "        \n",
              "  <svg xmlns=\"http://www.w3.org/2000/svg\" height=\"24px\"viewBox=\"0 0 24 24\"\n",
              "       width=\"24px\">\n",
              "    <path d=\"M0 0h24v24H0V0z\" fill=\"none\"/>\n",
              "    <path d=\"M18.56 5.44l.94 2.06.94-2.06 2.06-.94-2.06-.94-.94-2.06-.94 2.06-2.06.94zm-11 1L8.5 8.5l.94-2.06 2.06-.94-2.06-.94L8.5 2.5l-.94 2.06-2.06.94zm10 10l.94 2.06.94-2.06 2.06-.94-2.06-.94-.94-2.06-.94 2.06-2.06.94z\"/><path d=\"M17.41 7.96l-1.37-1.37c-.4-.4-.92-.59-1.43-.59-.52 0-1.04.2-1.43.59L10.3 9.45l-7.72 7.72c-.78.78-.78 2.05 0 2.83L4 21.41c.39.39.9.59 1.41.59.51 0 1.02-.2 1.41-.59l7.78-7.78 2.81-2.81c.8-.78.8-2.07 0-2.86zM5.41 20L4 18.59l7.72-7.72 1.47 1.35L5.41 20z\"/>\n",
              "  </svg>\n",
              "      </button>\n",
              "      \n",
              "  <style>\n",
              "    .colab-df-container {\n",
              "      display:flex;\n",
              "      flex-wrap:wrap;\n",
              "      gap: 12px;\n",
              "    }\n",
              "\n",
              "    .colab-df-convert {\n",
              "      background-color: #E8F0FE;\n",
              "      border: none;\n",
              "      border-radius: 50%;\n",
              "      cursor: pointer;\n",
              "      display: none;\n",
              "      fill: #1967D2;\n",
              "      height: 32px;\n",
              "      padding: 0 0 0 0;\n",
              "      width: 32px;\n",
              "    }\n",
              "\n",
              "    .colab-df-convert:hover {\n",
              "      background-color: #E2EBFA;\n",
              "      box-shadow: 0px 1px 2px rgba(60, 64, 67, 0.3), 0px 1px 3px 1px rgba(60, 64, 67, 0.15);\n",
              "      fill: #174EA6;\n",
              "    }\n",
              "\n",
              "    [theme=dark] .colab-df-convert {\n",
              "      background-color: #3B4455;\n",
              "      fill: #D2E3FC;\n",
              "    }\n",
              "\n",
              "    [theme=dark] .colab-df-convert:hover {\n",
              "      background-color: #434B5C;\n",
              "      box-shadow: 0px 1px 3px 1px rgba(0, 0, 0, 0.15);\n",
              "      filter: drop-shadow(0px 1px 2px rgba(0, 0, 0, 0.3));\n",
              "      fill: #FFFFFF;\n",
              "    }\n",
              "  </style>\n",
              "\n",
              "      <script>\n",
              "        const buttonEl =\n",
              "          document.querySelector('#df-87c353e3-779f-4c92-83af-c6aac9cefb87 button.colab-df-convert');\n",
              "        buttonEl.style.display =\n",
              "          google.colab.kernel.accessAllowed ? 'block' : 'none';\n",
              "\n",
              "        async function convertToInteractive(key) {\n",
              "          const element = document.querySelector('#df-87c353e3-779f-4c92-83af-c6aac9cefb87');\n",
              "          const dataTable =\n",
              "            await google.colab.kernel.invokeFunction('convertToInteractive',\n",
              "                                                     [key], {});\n",
              "          if (!dataTable) return;\n",
              "\n",
              "          const docLinkHtml = 'Like what you see? Visit the ' +\n",
              "            '<a target=\"_blank\" href=https://colab.research.google.com/notebooks/data_table.ipynb>data table notebook</a>'\n",
              "            + ' to learn more about interactive tables.';\n",
              "          element.innerHTML = '';\n",
              "          dataTable['output_type'] = 'display_data';\n",
              "          await google.colab.output.renderOutput(dataTable, element);\n",
              "          const docLink = document.createElement('div');\n",
              "          docLink.innerHTML = docLinkHtml;\n",
              "          element.appendChild(docLink);\n",
              "        }\n",
              "      </script>\n",
              "    </div>\n",
              "  </div>\n",
              "  "
            ]
          },
          "metadata": {},
          "execution_count": 82
        }
      ],
      "source": [
        "np.random.seed(333)\n",
        "base[['Unidad de Duracion','Duracion']].sample(20)"
      ]
    },
    {
      "cell_type": "code",
      "source": [
        "base[base['Unidad de Duracion'] =='Dias']['Duracion']"
      ],
      "metadata": {
        "colab": {
          "base_uri": "https://localhost:8080/"
        },
        "id": "3z02HLrQP5J-",
        "outputId": "4863f1ce-1ebb-4eab-bcb0-d4fff75513e5"
      },
      "execution_count": 90,
      "outputs": [
        {
          "output_type": "execute_result",
          "data": {
            "text/plain": [
              "344"
            ]
          },
          "metadata": {},
          "execution_count": 90
        }
      ]
    },
    {
      "cell_type": "code",
      "source": [
        "measure = []\n",
        "for i in np.arange(base.shape[0]):\n",
        "  if base['Unidad de Duracion'][i] ==  'Dias':\n",
        "    measure.append(base[base['Unidad de Duracion'] =='Dias']['Duracion'][i]/365)\n",
        "  elif base['Unidad de Duracion'][i] ==  'Meses':\n",
        "    measure.append(base[base['Unidad de Duracion'] =='Meses']['Duracion'][i]/12)\n",
        "  else:\n",
        "    pass\n"
      ],
      "metadata": {
        "id": "G9ScA-q9P1IJ"
      },
      "execution_count": null,
      "outputs": []
    },
    {
      "cell_type": "code",
      "source": [
        "base.shape"
      ],
      "metadata": {
        "colab": {
          "base_uri": "https://localhost:8080/"
        },
        "id": "TvfcJgB6KTTu",
        "outputId": "f35c5ea1-d01c-4b3f-d276-0ded44ca0992"
      },
      "execution_count": 61,
      "outputs": [
        {
          "output_type": "execute_result",
          "data": {
            "text/plain": [
              "(876768, 57)"
            ]
          },
          "metadata": {},
          "execution_count": 61
        }
      ]
    }
  ],
  "metadata": {
    "kernelspec": {
      "display_name": "Python 3",
      "language": "python",
      "name": "python3"
    },
    "language_info": {
      "codemirror_mode": {
        "name": "ipython",
        "version": 3
      },
      "file_extension": ".py",
      "mimetype": "text/x-python",
      "name": "python",
      "nbconvert_exporter": "python",
      "pygments_lexer": "ipython3",
      "version": "3.8.5"
    },
    "toc": {
      "base_numbering": 1,
      "nav_menu": {},
      "number_sections": true,
      "sideBar": true,
      "skip_h1_title": false,
      "title_cell": "Table of Contents",
      "title_sidebar": "Contents",
      "toc_cell": true,
      "toc_position": {},
      "toc_section_display": true,
      "toc_window_display": false
    },
    "varInspector": {
      "cols": {
        "lenName": 16,
        "lenType": 16,
        "lenVar": 40
      },
      "kernels_config": {
        "python": {
          "delete_cmd_postfix": "",
          "delete_cmd_prefix": "del ",
          "library": "var_list.py",
          "varRefreshCmd": "print(var_dic_list())"
        },
        "r": {
          "delete_cmd_postfix": ") ",
          "delete_cmd_prefix": "rm(",
          "library": "var_list.r",
          "varRefreshCmd": "cat(var_dic_list()) "
        }
      },
      "types_to_exclude": [
        "module",
        "function",
        "builtin_function_or_method",
        "instance",
        "_Feature"
      ],
      "window_display": false
    },
    "colab": {
      "name": "Ejercicios_Limpieza_Transformacion_Datos.ipynb",
      "provenance": [],
      "include_colab_link": true
    }
  },
  "nbformat": 4,
  "nbformat_minor": 0
}